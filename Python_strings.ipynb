{
 "cells": [
  {
   "cell_type": "markdown",
   "id": "9ff4b6e2",
   "metadata": {},
   "source": [
    "Strings are sequences of characters, using the syntax of wither single quotes or double quotes"
   ]
  },
  {
   "cell_type": "code",
   "execution_count": 1,
   "id": "6d44c1f2",
   "metadata": {},
   "outputs": [],
   "source": [
    "my_str = \"He said the word 'noodles'\""
   ]
  },
  {
   "cell_type": "code",
   "execution_count": 2,
   "id": "bf361d9b",
   "metadata": {},
   "outputs": [
    {
     "data": {
      "text/plain": [
       "\"He said the word 'noodles'\""
      ]
     },
     "execution_count": 2,
     "metadata": {},
     "output_type": "execute_result"
    }
   ],
   "source": [
    "my_str"
   ]
  },
  {
   "cell_type": "code",
   "execution_count": 7,
   "id": "459c4313",
   "metadata": {},
   "outputs": [],
   "source": [
    "str_2 = \"hello\""
   ]
  },
  {
   "cell_type": "code",
   "execution_count": 8,
   "id": "228cca19",
   "metadata": {},
   "outputs": [
    {
     "data": {
      "text/plain": [
       "'hello'"
      ]
     },
     "execution_count": 8,
     "metadata": {},
     "output_type": "execute_result"
    }
   ],
   "source": [
    "str_2"
   ]
  },
  {
   "cell_type": "markdown",
   "id": "634b450a",
   "metadata": {},
   "source": [
    "Strings are ordered sequences:\n",
    "- We can use indexing and slicing to grab sub-sections of the string\n",
    "- Indexing notation uses [] notation after the string\n",
    "- Indexing allows you to grab a single character from the string\n",
    "<br>\n",
    "- Python also allows reverse indexing:<br><br>\n",
    "    h e l l o ------> -5, -4, -3, -2, -1 ------> 0, 1, 2, 3, 4"
   ]
  },
  {
   "cell_type": "code",
   "execution_count": 10,
   "id": "a9b436fd",
   "metadata": {},
   "outputs": [
    {
     "data": {
      "text/plain": [
       "'h'"
      ]
     },
     "execution_count": 10,
     "metadata": {},
     "output_type": "execute_result"
    }
   ],
   "source": [
    "str_2[-5]"
   ]
  },
  {
   "cell_type": "markdown",
   "id": "cb2e8d6c",
   "metadata": {},
   "source": [
    "Slicing allows you to grab a subsection of multiple characters, a \"slice\" of the string. \n",
    "- Syntax: [start:stop:step]"
   ]
  },
  {
   "cell_type": "code",
   "execution_count": 12,
   "id": "6f1d78dd",
   "metadata": {},
   "outputs": [
    {
     "name": "stdout",
     "output_type": "stream",
     "text": [
      "hello\n",
      "world\n"
     ]
    }
   ],
   "source": [
    "print('hello\\nworld')"
   ]
  },
  {
   "cell_type": "code",
   "execution_count": 13,
   "id": "0d9237b5",
   "metadata": {},
   "outputs": [
    {
     "name": "stdout",
     "output_type": "stream",
     "text": [
      "hello\tworld\n"
     ]
    }
   ],
   "source": [
    "print('hello\\tworld')"
   ]
  },
  {
   "cell_type": "code",
   "execution_count": null,
   "id": "86137679",
   "metadata": {},
   "outputs": [],
   "source": []
  }
 ],
 "metadata": {
  "kernelspec": {
   "display_name": "Python 3 (ipykernel)",
   "language": "python",
   "name": "python3"
  },
  "language_info": {
   "codemirror_mode": {
    "name": "ipython",
    "version": 3
   },
   "file_extension": ".py",
   "mimetype": "text/x-python",
   "name": "python",
   "nbconvert_exporter": "python",
   "pygments_lexer": "ipython3",
   "version": "3.9.1"
  }
 },
 "nbformat": 4,
 "nbformat_minor": 5
}
